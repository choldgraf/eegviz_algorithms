{
 "metadata": {
  "name": "",
  "signature": "sha256:b9e8644069bbade867b64f23e450487347bc0d631bacf37b6675f6b7b9b4d5f5"
 },
 "nbformat": 3,
 "nbformat_minor": 0,
 "worksheets": [
  {
   "cells": [
    {
     "cell_type": "code",
     "collapsed": false,
     "input": [
      "from tornado import ioloop, web, httpserver\n",
      "import tornado\n",
      "import requests\n",
      "import json\n",
      "import pandas as pd"
     ],
     "language": "python",
     "metadata": {},
     "outputs": [],
     "prompt_number": 2
    },
    {
     "cell_type": "code",
     "collapsed": false,
     "input": [
      "import time"
     ],
     "language": "python",
     "metadata": {},
     "outputs": [],
     "prompt_number": 3
    },
    {
     "cell_type": "code",
     "collapsed": false,
     "input": [
      "df = pd.read_csv('./data/sensors_dump.csv').replace('\\N', np.nan).dropna()"
     ],
     "language": "python",
     "metadata": {},
     "outputs": [],
     "prompt_number": 4
    },
    {
     "cell_type": "code",
     "collapsed": false,
     "input": [
      "sample_json = '{\"username\":\"billy\",\"start_time\":\"2014-10-26T20:23:05.481875\",\"end_time\":\"2014-10-26T20:23:07.448557\",\"data\":[38,38,38,39,38,38,37,37,37,38,38,37,38,38,38,38,39,38,37,38,38,38,38,38,36,38,38,38,38,38,37,38,37,38,38,38,38,38,38,38,38,37,37,37,36,37,37,37,37,37,38,38,37,37,37,38,38,37,37,37,38,37,36,37,37,37,37,37,37,37,37,37,37,37,37,38,38,38,38,38,37,37,37,37,37,38,37,37,37,37,37,38,37,37,37,37,38,38,37,38,37,38,38,37,38,37,37,37,37,38,37,37,37,37,38,38,37,37,37,38,37,37,37,37,37,37,37,37,37,38,38,38,38,38,38,37,38,38,38,38,38,38,37,38,38,38,38,38,38,38,38,38,37,38,37,38,38,38,37,38,38,38,37,39,38,38,37,38,38,38,38,38,38,38,38,38,37,37,38,38,38,38,38,39,38,38,38,38,38,38,38,38,37,37,37,37,37,38,37,37,37,37,38,38,38,38,38,38,38,38,38,37,37,38,38,38,38,38,37,38,38,37,38,38,37,38,37,37,37,38,38,38,38,38,37,37,36,38,37,37,38,38,37,37,38,37,37,38,38,38,37,37,38,37,37,37,38,37,38,37,37,37,37,37,37,37,38,37,38,38,37,37,37,38,37,38,37,38,37,38,38,37,37,38,38,37,38,37,37,37,38,38,39,38,37,37,38,38,38,38,38,38,38,38,38,37,38,37,37,37,38,37,38,38,37,37,38,38,37,38,38,38,37,38,37,37,37,38,37,37,37,37,37,37,38,38,38,37,38,38,37,37,37,37,37,37,37,38,37,38,37,37,38,37,38,37,37,37,38,37,37,37,38,37,38,38,37,37,37,37,37,37,38,37,38,38,38,38,38,38,38,37,38,37,37,38,37,38,37,38,38,38,38,37,37,38,38,38,37,37,37,37,38,38,38,38,38,37,37,37,38,37,38,37,38,38,38,37,38,37,38,37,38,37,37,37,37,37,37,37,37,37,37,37,37,37,37,37,37,37,38,37,37,37,37,38,37,38,37,37,37,38,38,37,37,37,38,37,37,38,38,37,37,38,38,37,38,37,37,37,38,38,38,38,37,38,38,38,38,38,37,39,38,38,38,38,37,38,38,38,38,38,37,38,38,38,38,37,38,37,38,37,38,38,38,38,37,38,38,38,38,38,38,38,38,38,38,38,37,38,38,37,37,37,38,37,37,37,38,38,37,37,37,37,38,38,37,37,37,38,37,38,37,38,37,37,38,38,37,37,37,38,37,37,38,38,38,38,38,38,37,38,37,37,37,38,38,38,38,38,38,38,38,38,38,38,38,38,37,38,37,38,38,38,38,38,38,37,38,37,38,38,38,38,38,37,38,38,38,38,38,38,38,38,38,38,37,38,38,37,38,38,38,38,38,38,37,38,38,38,37,37,37,38,38,38,38,38,37,38,37,38,38,37,37,38,38,38,38,37,37,38,38,38,38,38,38,38,38,38,37,38,37,37,37,38,38,38,37,37,37,37,37,37,37,38,37,37,37,37,37,38,38,37,37,37,37,38,37,37,37,37,37,37,37,38,38,37,37,37,37,37,37,37,37,37,38,37,37,38,37,37,37,37,37,37,37,37,38,37,37,38,37,38,38,38,38,37,37,37,37,37,38,37,38,38,37,38,38,38,38,38,37,37,37,37,37,38,38,37,38,38,37,37,38,37,38,37,38,37,37,37,37,38,37,37,38,37,37,38,37,38,37,37,38,38,37,38,38,37,37,38,38,37,37,37,37,38,38,37,37,38,38,38,37,37,37,37,37,37,37,37,38,37,38,38,38,37,38,38,38,38,38,38,38,37,38,37,38,38,37,38,38,37,38,38,38,38,38,38,38,38,38,38,38,37,38,38,38,38,37,37,38,37,37,38,38,37,38,38,38,38,37,37,37,37,37,37,37,37,37,37,38,37,37,38,38,37,36,37,38,38,38,37,38,37,38,37,38,38,38,37,37,38,38,38,37,38,38,38,37,38,37,38,38,38,37,38,38,38,38,38,38,38,37,38,37,37,38,38,38,38,38,38,38,38,38,37,37,37,37,38,37,38,38,37,38,38,38,37,38,37,38,38,38,38,38,38,37,37,37,38,38,37,37,37,38,38,38,38,37,38,37,37,38,38,37,38,37,38,38,37,37,37,37,37,38,37,37,38,37,37,37,37,38,38,38,37,37,38,38,38,38,37,37,38,38,37,38,38,38,38,37,37,37,38,37,38,37,37,38,37,37,38,37,37,38,37,37,38,37,38,37,37,37,38,38,37,38,38,38,38,38,37,38,37,37,38,38,38,38,38,38,38]}'\n",
      "sample_json_mult = '[{\"username\":\"billy\",\"start_time\":\"2014-10-26T23:16:48.907979\",\"end_time\":\"2014-10-26T23:16:50.906818\",\"data\":[36,34,36,36,36,36,36,36,36,37,39,37,37,37,37,37,37,37,37,37,36,36,37,38,37,37,38,38,37,38,38,36,37,37,38,37,36,37,38,37,38,37,38,37,38,37,37,37,38,38,38,39,39,37,37,37,38,38,39,36,39,38,38,39,38,38,38,40,38,39,40,39,38,39,39,39,38,39,39,38,40,38,38,39,38,39,38,38,39,38,39,39,39,39,38,39,38,38,37,36,35,36,37,39,38,38,40,40,39,39,38,38,38,39,39,38,37,38,38,38,38,39,39,38,40,38,40,39,40,40,39,40,40,40,38,38,39,39,39,39,37,38,39,38,39,38,39,39,38,39,38,38,39,39,39,38,40,39,39,39,39,38,37,37,39,38,40,39,37,39,38,38,37,39,39,38,38,39,37,38,39,40,40,39,40,40,39,40,40,40,40,38,39,38,39,38,38,37,37,38,38,38,38,38,38,39,39,39,39,37,38,39,39,38,39,38,38,37,39,39,40,41,40,39,38,38,38,37,38,37,37,38,38,39,39,37,38,38,38,40,40,39,39,38,38,39,38,38,38,38,38,38,39,39,39,40,39,37,38,38,39,39,38,38,38,38,38,38,38,38,38,37,37,36,36,38,38,38,39,40,39,38,39,38,38,38,39,39,38,39,39,38,39,39,38,38,38,38,38,38,37,36,38,38,38,38,38,39,40,39,39,38,38,38,37,37,38,39,39,39,39,39,38,38,37,38,38,38,37,36,37,37,38,39,39,39,38,38,39,36,38,38,39,39,39,38,38,40,38,39,40,39,39,37,37,38,39,38,38,38,37,37,39,39,38,38,39,39,38,38,38,37,38,39,40,39,39,40,39,38,38,39,39,39,39,39,38,38,38,38,36,38,39,39,38,39,39,40,40,40,38,38,39,40,38,38,38,38,38,39,38,39,39,39,38,38,40,39,39,40,39,38,38,38,39,37,37,37,39,39,38,39,40,39,39,39,38,38,39,39,38,39,38,39,38,38,38,38,39,40,40,39,38,39,39,39,39,38,39,38,38,38,39,38,38,38,39,38,38,40,38,38,38,37,39,38,38,39,38,39,39,38,38,39,39,40,40,39,38,39,37,38,38,38,39,38,38,38,38,38,39,39,39,38,38,39,38,38,38,39,37,38,39,39,38,37,38,38,37,37,37,39,38,39,37,40,39,39,39,39,38,37,37,38,38,39,40,39,38,39,39,38,38,39,39,37,37,37,39,38,39,38,40,39,38,39,37,38,39,38,38,38,38,38,39,40,38,38,39,39,38,38,37,37,38,39,38,38,38,38,38,40,38,38,38,39,39,38,39,38,38,38,39,38,37,37,38,37,39,38,39,40,39,39,39,37,38,38,37,39,38,39,37,38,38,38,39,38,37,39,39,38,39,39,37,37,41,39,38,38,39,38,38,38,38,37,37,38,39,39,39,39,38,38,38,40,40,41,40,39,38,38,37,38,39,39,40,39,38,38,39,38,39,39,38,39,38,39,38,39,38,38,38,39,38,39,38,39,39,39,38,39,39,39,40,39,37,37,39,38,39,38,38,38,38,38,39,39,38,38,38,38,38,38,38,37,38,38,37,38,39,38,39,39,39,38,38,39,39,38,39,39,38,38,39,37,38,38,38,39,38,37,37,39,38,40,39,39,38,38,39,41,40,39,39,39,36,37,37,39,39,38,39,39,38,37,38,39,38,38,38,38,40,40,38,40,39,39,38,38,40,39,39,40,39,38,38,39,39,38,38,37,38,38,39,36,37,38,38,39,38,39,39,40,38,39,39,39,39,38,39,40,40,39,39,37,39,39,39,38,40,39,39,40,40,40,40,38,39,38,40,39,39,39,39,39,38,38,38,38,38,38,39,39,37,38,37,37,39,39,39,40,39,40,40,40,39,39,38,38,38,39,38,38,39,38,39,39,39,40,39,40,39,39,37,40,37,38,37,38,37,39,38,39,38,39,38,39,38,39,39,40,38,38,38,39,37,38,39,40,38,39,39,39,38,38,40,38,38,38,38,37,39,39,38,37,38,38,38,38,39,39,39,39,39,39,40,40,38,39,38,37,38,38,38,38,39,38,39,39,39,38,39,39,39,38,39,38,39,39,39,38,38,40,39,36,40,39,39,40,39,38,39,40,39,39,39,40,38,38,38,39,38,40,40,40,41,39,39,38,38,38,37,38,39,39,40,39,38,39,38,39,39,38,39,40,41,37,39,39,39,39,38,39,38,37,39,38,38,38,39,40,38,40,39,40,38,38,39,38,38,39,38,38,37,36,38,39,39,38,39,38,38,39]},{\"username\":\"bill\",\"start_time\":\"2014-10-26T23:16:50.925909\",\"end_time\":\"2014-10-26T23:16:52.891532\",\"data\":[38,38,39,39,38,39,38,39,38,38,38,38,38,37,39,39,39,38,40,38,39,39,39,40,40,40,40,39,40,39,39,39,38,37,39,38,37,38,39,38,38,37,36,37,38,37,37,39,38,38,37,39,38,38,37,38,38,37,39,38,38,39,38,39,38,38,38,39,39,39,39,38,39,38,38,38,38,36,37,38,38,38,38,38,38,40,40,41,39,39,39,39,38,38,39,39,39,39,38,39,38,38,38,37,38,38,37,36,38,38,39,38,38,39,38,39,38,38,39,39,39,37,38,38,39,38,39,39,39,39,38,39,39,38,38,37,38,38,38,38,38,39,39,38,40,38,39,37,38,39,39,39,39,39,39,40,40,38,39,39,38,39,39,38,39,39,38,40,40,38,39,38,38,38,39,39,40,40,38,38,39,38,38,38,39,39,40,38,38,37,38,39,39,37,38,38,37,37,37,38,39,39,38,38,39,38,37,39,38,37,38,40,39,40,39,38,39,38,37,38,38,39,39,39,39,39,37,39,39,39,38,39,39,38,39,40,40,38,38,38,37,39,40,38,39,39,38,40,40,39,39,38,39,37,37,38,38,38,38,39,38,38,38,38,38,39,39,38,40,39,37,38,38,37,37,36,37,37,39,39,38,39,39,39,39,39,38,39,38,38,38,38,39,38,39,38,38,38,39,39,39,39,40,39,39,38,40,37,38,38,38,38,38,38,39,39,39,38,38,38,38,38,39,40,39,40,40,39,39,40,40,39,40,38,39,39,39,39,40,39,39,38,38,37,37,38,39,38,39,39,38,40,39,38,39,39,40,38,38,39,37,38,39,38,38,39,39,40,38,38,39,39,39,37,37,36,36,40,38,38,38,39,39,38,37,38,38,39,37,37,38,38,37,38,37,38,39,38,38,39,39,38,39,38,38,38,37,37,38,38,38,39,39,39,39,39,39,39,39,39,38,39,38,38,38,38,38,38,38,40,39,38,39,39,39,40,39,40,40,38,38,39,38,39,38,39,38,39,38,38,38,38,38,38,38,38,37,37,37,38,38,38,39,39,39,38,39,37,37,38,39,38,39,37,38,38,39,39,38,39,39,38,38,38,39,39,39,41,39,40,39,39,39,39,40,39,37,38,38,39,39,38,40,38,40,38,38,38,39,39,39,39,38,38,38,39,40,39,38,38,38,38,39,39,39,39,38,39,39,38,38,38,39,38,39,39,38,39,40,39,38,38,39,39,38,38,39,39,39,38,39,38,38,39,38,38,37,38,39,38,39,39,38,38,39,38,39,39,39,39,39,39,38,39,39,39,39,39,38,37,38,38,38,38,37,39,38,38,38,38,38,39,41,40,39,39,38,38,37,37,37,36,38,38,38,37,38,38,38,38,38,37,38,37,38,40,39,38,38,40,40,39,37,37,37,38,38,38,38,39,38,38,38,37,38,39,38,38,39,38,38,40,40,38,39,38,39,39,37,36,38,38,39,38,39,38,39,39,39,39,40,39,40,40,38,38,38,39,39,39,38,38,39,38,38,39,38,39,39,38,37,39,39,38,38,38,38,39,39,39,39,40,39,39,38,39,39,39,39,38,39,39,38,40,39,39,39,39,39,40,40,38,37,37,39,38,39,40,39,39,39,38,41,39,40,38,39,39,38,38,37,38,40,38,38,38,38,39,38,39,38,38,38,39,38,38,39,39,39,38,38,39,39,38,39,37,38,39,39,39,40,40,40,39,37,38,38,39,39,38,38,38,40,40,39,39,39,38,40,39,38,39,40,39,38,39,39,38,39,40,39,39,37,39,38,39,39,39,39,39,39,38,38,39,39,38,39,40,38,38,40,40,39,40,39,38,38,38,39,38,38,39,39,39,39,40,39,38,39,40,39,38,40,37,38,38,39,38,37,39,39,38,39,39,41,39,38,39,38,39,40,39,38,38,38,38,38,39,39,39,39,38,40,39,37,38,39,38,38,39,38,37,38,38,38,38,38,38,39,38,38,39,38,39,37,39,38,38,38,39,39,39,38,38,38,39,38,37,38,39,39,39,37,37,37,39,39,39,38,39,39,38,39,38,39,39,39,39,40,39,39,38,39,38,39,38,39,39,38,39,39,39,39,38,38,38,38,39,40,37,37,39,40,38,39,38,38,38,39,38,37,37,39,38,38,38,38,38,38,39,39,40,39,38,39,39,39,38,39,39,38,38,38,38,38,39,38,39,40,39,39,38,39,39,39,39,38,38,39,40,39,39,40,39,38,39,40,38,39,39,39,38,39,38,38,38,38,38,40,39,39,39,38,38,38,38,38,39,39,39,40,40,40,39]}]'"
     ],
     "language": "python",
     "metadata": {},
     "outputs": [],
     "prompt_number": 5
    },
    {
     "cell_type": "code",
     "collapsed": false,
     "input": [
      "df_json = pd.read_json(sample_json_mult)\n",
      "df_json['signal_quality'] = 4\n",
      "string_json = df_json.to_json()"
     ],
     "language": "python",
     "metadata": {},
     "outputs": [],
     "prompt_number": 15
    },
    {
     "cell_type": "code",
     "collapsed": true,
     "input": [
      "ix_data = np.arange(50000)\n",
      "while True:\n",
      "    print ix_data[-1]\n",
      "#     df_json = df.iloc[ix_data, :]\n",
      "    post_dict = {'data': df_json.to_json()}\n",
      "    r = requests.post('http://localhost:8989', post_dict)\n",
      "    print r.content\n",
      "    ix_data += 50000\n",
      "    time.sleep(.1)"
     ],
     "language": "python",
     "metadata": {},
     "outputs": [
      {
       "output_type": "stream",
       "stream": "stdout",
       "text": [
        "49999\n",
        "{\"bill\":2.0957518905,\"billy\":2.6318231405}"
       ]
      },
      {
       "output_type": "stream",
       "stream": "stdout",
       "text": [
        "\n",
        "99999"
       ]
      },
      {
       "output_type": "stream",
       "stream": "stdout",
       "text": [
        "\n",
        "{\"bill\":2.0957518905,\"billy\":2.6318231405}"
       ]
      },
      {
       "output_type": "stream",
       "stream": "stdout",
       "text": [
        "\n",
        "149999"
       ]
      },
      {
       "output_type": "stream",
       "stream": "stdout",
       "text": [
        "\n",
        "{\"bill\":2.0957518905,\"billy\":2.6318231405}"
       ]
      },
      {
       "output_type": "stream",
       "stream": "stdout",
       "text": [
        "\n",
        "199999"
       ]
      },
      {
       "output_type": "stream",
       "stream": "stdout",
       "text": [
        "\n",
        "{\"bill\":2.0957518905,\"billy\":2.6318231405}"
       ]
      },
      {
       "output_type": "stream",
       "stream": "stdout",
       "text": [
        "\n",
        "249999"
       ]
      },
      {
       "output_type": "stream",
       "stream": "stdout",
       "text": [
        "\n",
        "{\"bill\":2.0957518905,\"billy\":2.6318231405}"
       ]
      },
      {
       "output_type": "stream",
       "stream": "stdout",
       "text": [
        "\n",
        "299999"
       ]
      },
      {
       "output_type": "stream",
       "stream": "stdout",
       "text": [
        "\n",
        "{\"bill\":2.0957518905,\"billy\":2.6318231405}"
       ]
      },
      {
       "output_type": "stream",
       "stream": "stdout",
       "text": [
        "\n",
        "349999"
       ]
      },
      {
       "output_type": "stream",
       "stream": "stdout",
       "text": [
        "\n",
        "{\"bill\":2.0957518905,\"billy\":2.6318231405}"
       ]
      },
      {
       "output_type": "stream",
       "stream": "stdout",
       "text": [
        "\n",
        "399999"
       ]
      },
      {
       "output_type": "stream",
       "stream": "stdout",
       "text": [
        "\n",
        "{\"bill\":2.0957518905,\"billy\":2.6318231405}"
       ]
      },
      {
       "output_type": "stream",
       "stream": "stdout",
       "text": [
        "\n",
        "449999"
       ]
      },
      {
       "output_type": "stream",
       "stream": "stdout",
       "text": [
        "\n",
        "{\"bill\":2.0957518905,\"billy\":2.6318231405}"
       ]
      },
      {
       "output_type": "stream",
       "stream": "stdout",
       "text": [
        "\n",
        "499999"
       ]
      },
      {
       "output_type": "stream",
       "stream": "stdout",
       "text": [
        "\n",
        "{\"bill\":2.0957518905,\"billy\":2.6318231405}"
       ]
      },
      {
       "output_type": "stream",
       "stream": "stdout",
       "text": [
        "\n",
        "549999"
       ]
      },
      {
       "output_type": "stream",
       "stream": "stdout",
       "text": [
        "\n",
        "{\"bill\":2.0957518905,\"billy\":2.6318231405}"
       ]
      },
      {
       "output_type": "stream",
       "stream": "stdout",
       "text": [
        "\n",
        "599999"
       ]
      },
      {
       "output_type": "stream",
       "stream": "stdout",
       "text": [
        "\n",
        "{\"bill\":2.0957518905,\"billy\":2.6318231405}"
       ]
      },
      {
       "output_type": "stream",
       "stream": "stdout",
       "text": [
        "\n",
        "649999"
       ]
      },
      {
       "output_type": "stream",
       "stream": "stdout",
       "text": [
        "\n",
        "{\"bill\":2.0957518905,\"billy\":2.6318231405}"
       ]
      },
      {
       "output_type": "stream",
       "stream": "stdout",
       "text": [
        "\n",
        "699999"
       ]
      },
      {
       "output_type": "stream",
       "stream": "stdout",
       "text": [
        "\n",
        "{\"bill\":2.0957518905,\"billy\":2.6318231405}"
       ]
      },
      {
       "output_type": "stream",
       "stream": "stdout",
       "text": [
        "\n",
        "749999"
       ]
      },
      {
       "output_type": "stream",
       "stream": "stdout",
       "text": [
        "\n",
        "{\"bill\":2.0957518905,\"billy\":2.6318231405}"
       ]
      },
      {
       "output_type": "stream",
       "stream": "stdout",
       "text": [
        "\n",
        "799999"
       ]
      },
      {
       "output_type": "stream",
       "stream": "stdout",
       "text": [
        "\n",
        "{\"bill\":2.0957518905,\"billy\":2.6318231405}"
       ]
      },
      {
       "output_type": "stream",
       "stream": "stdout",
       "text": [
        "\n",
        "849999"
       ]
      },
      {
       "output_type": "stream",
       "stream": "stdout",
       "text": [
        "\n"
       ]
      },
      {
       "ename": "KeyboardInterrupt",
       "evalue": "",
       "output_type": "pyerr",
       "traceback": [
        "\u001b[0;31m---------------------------------------------------------------------------\u001b[0m\n\u001b[0;31mKeyboardInterrupt\u001b[0m                         Traceback (most recent call last)",
        "\u001b[0;32m<ipython-input-16-4f45c6dd39a1>\u001b[0m in \u001b[0;36m<module>\u001b[0;34m()\u001b[0m\n\u001b[1;32m      4\u001b[0m \u001b[0;31m#     df_json = df.iloc[ix_data, :]\u001b[0m\u001b[0;34m\u001b[0m\u001b[0;34m\u001b[0m\u001b[0m\n\u001b[1;32m      5\u001b[0m     \u001b[0mpost_dict\u001b[0m \u001b[0;34m=\u001b[0m \u001b[0;34m{\u001b[0m\u001b[0;34m'data'\u001b[0m\u001b[0;34m:\u001b[0m \u001b[0mdf_json\u001b[0m\u001b[0;34m.\u001b[0m\u001b[0mto_json\u001b[0m\u001b[0;34m(\u001b[0m\u001b[0;34m)\u001b[0m\u001b[0;34m}\u001b[0m\u001b[0;34m\u001b[0m\u001b[0m\n\u001b[0;32m----> 6\u001b[0;31m     \u001b[0mr\u001b[0m \u001b[0;34m=\u001b[0m \u001b[0mrequests\u001b[0m\u001b[0;34m.\u001b[0m\u001b[0mpost\u001b[0m\u001b[0;34m(\u001b[0m\u001b[0;34m'http://localhost:8989'\u001b[0m\u001b[0;34m,\u001b[0m \u001b[0mpost_dict\u001b[0m\u001b[0;34m)\u001b[0m\u001b[0;34m\u001b[0m\u001b[0m\n\u001b[0m\u001b[1;32m      7\u001b[0m     \u001b[0;32mprint\u001b[0m \u001b[0mr\u001b[0m\u001b[0;34m.\u001b[0m\u001b[0mcontent\u001b[0m\u001b[0;34m\u001b[0m\u001b[0m\n\u001b[1;32m      8\u001b[0m     \u001b[0mix_data\u001b[0m \u001b[0;34m+=\u001b[0m \u001b[0;36m50000\u001b[0m\u001b[0;34m\u001b[0m\u001b[0m\n",
        "\u001b[0;32m/Users/choldgraf/anaconda/lib/python2.7/site-packages/requests/api.pyc\u001b[0m in \u001b[0;36mpost\u001b[0;34m(url, data, json, **kwargs)\u001b[0m\n\u001b[1;32m     92\u001b[0m     \"\"\"\n\u001b[1;32m     93\u001b[0m \u001b[0;34m\u001b[0m\u001b[0m\n\u001b[0;32m---> 94\u001b[0;31m     \u001b[0;32mreturn\u001b[0m \u001b[0mrequest\u001b[0m\u001b[0;34m(\u001b[0m\u001b[0;34m'post'\u001b[0m\u001b[0;34m,\u001b[0m \u001b[0murl\u001b[0m\u001b[0;34m,\u001b[0m \u001b[0mdata\u001b[0m\u001b[0;34m=\u001b[0m\u001b[0mdata\u001b[0m\u001b[0;34m,\u001b[0m \u001b[0mjson\u001b[0m\u001b[0;34m=\u001b[0m\u001b[0mjson\u001b[0m\u001b[0;34m,\u001b[0m \u001b[0;34m**\u001b[0m\u001b[0mkwargs\u001b[0m\u001b[0;34m)\u001b[0m\u001b[0;34m\u001b[0m\u001b[0m\n\u001b[0m\u001b[1;32m     95\u001b[0m \u001b[0;34m\u001b[0m\u001b[0m\n\u001b[1;32m     96\u001b[0m \u001b[0;34m\u001b[0m\u001b[0m\n",
        "\u001b[0;32m/Users/choldgraf/anaconda/lib/python2.7/site-packages/requests/api.pyc\u001b[0m in \u001b[0;36mrequest\u001b[0;34m(method, url, **kwargs)\u001b[0m\n\u001b[1;32m     47\u001b[0m \u001b[0;34m\u001b[0m\u001b[0m\n\u001b[1;32m     48\u001b[0m     \u001b[0msession\u001b[0m \u001b[0;34m=\u001b[0m \u001b[0msessions\u001b[0m\u001b[0;34m.\u001b[0m\u001b[0mSession\u001b[0m\u001b[0;34m(\u001b[0m\u001b[0;34m)\u001b[0m\u001b[0;34m\u001b[0m\u001b[0m\n\u001b[0;32m---> 49\u001b[0;31m     \u001b[0;32mreturn\u001b[0m \u001b[0msession\u001b[0m\u001b[0;34m.\u001b[0m\u001b[0mrequest\u001b[0m\u001b[0;34m(\u001b[0m\u001b[0mmethod\u001b[0m\u001b[0;34m=\u001b[0m\u001b[0mmethod\u001b[0m\u001b[0;34m,\u001b[0m \u001b[0murl\u001b[0m\u001b[0;34m=\u001b[0m\u001b[0murl\u001b[0m\u001b[0;34m,\u001b[0m \u001b[0;34m**\u001b[0m\u001b[0mkwargs\u001b[0m\u001b[0;34m)\u001b[0m\u001b[0;34m\u001b[0m\u001b[0m\n\u001b[0m\u001b[1;32m     50\u001b[0m \u001b[0;34m\u001b[0m\u001b[0m\n\u001b[1;32m     51\u001b[0m \u001b[0;34m\u001b[0m\u001b[0m\n",
        "\u001b[0;32m/Users/choldgraf/anaconda/lib/python2.7/site-packages/requests/sessions.pyc\u001b[0m in \u001b[0;36mrequest\u001b[0;34m(self, method, url, params, data, headers, cookies, files, auth, timeout, allow_redirects, proxies, hooks, stream, verify, cert, json)\u001b[0m\n\u001b[1;32m    455\u001b[0m         }\n\u001b[1;32m    456\u001b[0m         \u001b[0msend_kwargs\u001b[0m\u001b[0;34m.\u001b[0m\u001b[0mupdate\u001b[0m\u001b[0;34m(\u001b[0m\u001b[0msettings\u001b[0m\u001b[0;34m)\u001b[0m\u001b[0;34m\u001b[0m\u001b[0m\n\u001b[0;32m--> 457\u001b[0;31m         \u001b[0mresp\u001b[0m \u001b[0;34m=\u001b[0m \u001b[0mself\u001b[0m\u001b[0;34m.\u001b[0m\u001b[0msend\u001b[0m\u001b[0;34m(\u001b[0m\u001b[0mprep\u001b[0m\u001b[0;34m,\u001b[0m \u001b[0;34m**\u001b[0m\u001b[0msend_kwargs\u001b[0m\u001b[0;34m)\u001b[0m\u001b[0;34m\u001b[0m\u001b[0m\n\u001b[0m\u001b[1;32m    458\u001b[0m \u001b[0;34m\u001b[0m\u001b[0m\n\u001b[1;32m    459\u001b[0m         \u001b[0;32mreturn\u001b[0m \u001b[0mresp\u001b[0m\u001b[0;34m\u001b[0m\u001b[0m\n",
        "\u001b[0;32m/Users/choldgraf/anaconda/lib/python2.7/site-packages/requests/sessions.pyc\u001b[0m in \u001b[0;36msend\u001b[0;34m(self, request, **kwargs)\u001b[0m\n\u001b[1;32m    567\u001b[0m \u001b[0;34m\u001b[0m\u001b[0m\n\u001b[1;32m    568\u001b[0m         \u001b[0;31m# Send the request\u001b[0m\u001b[0;34m\u001b[0m\u001b[0;34m\u001b[0m\u001b[0m\n\u001b[0;32m--> 569\u001b[0;31m         \u001b[0mr\u001b[0m \u001b[0;34m=\u001b[0m \u001b[0madapter\u001b[0m\u001b[0;34m.\u001b[0m\u001b[0msend\u001b[0m\u001b[0;34m(\u001b[0m\u001b[0mrequest\u001b[0m\u001b[0;34m,\u001b[0m \u001b[0;34m**\u001b[0m\u001b[0mkwargs\u001b[0m\u001b[0;34m)\u001b[0m\u001b[0;34m\u001b[0m\u001b[0m\n\u001b[0m\u001b[1;32m    570\u001b[0m \u001b[0;34m\u001b[0m\u001b[0m\n\u001b[1;32m    571\u001b[0m         \u001b[0;31m# Total elapsed time of the request (approximately)\u001b[0m\u001b[0;34m\u001b[0m\u001b[0;34m\u001b[0m\u001b[0m\n",
        "\u001b[0;32m/Users/choldgraf/anaconda/lib/python2.7/site-packages/requests/adapters.pyc\u001b[0m in \u001b[0;36msend\u001b[0;34m(self, request, stream, timeout, verify, cert, proxies)\u001b[0m\n\u001b[1;32m    360\u001b[0m                     \u001b[0mdecode_content\u001b[0m\u001b[0;34m=\u001b[0m\u001b[0mFalse\u001b[0m\u001b[0;34m,\u001b[0m\u001b[0;34m\u001b[0m\u001b[0m\n\u001b[1;32m    361\u001b[0m                     \u001b[0mretries\u001b[0m\u001b[0;34m=\u001b[0m\u001b[0mRetry\u001b[0m\u001b[0;34m(\u001b[0m\u001b[0mself\u001b[0m\u001b[0;34m.\u001b[0m\u001b[0mmax_retries\u001b[0m\u001b[0;34m,\u001b[0m \u001b[0mread\u001b[0m\u001b[0;34m=\u001b[0m\u001b[0mFalse\u001b[0m\u001b[0;34m)\u001b[0m\u001b[0;34m,\u001b[0m\u001b[0;34m\u001b[0m\u001b[0m\n\u001b[0;32m--> 362\u001b[0;31m                     \u001b[0mtimeout\u001b[0m\u001b[0;34m=\u001b[0m\u001b[0mtimeout\u001b[0m\u001b[0;34m\u001b[0m\u001b[0m\n\u001b[0m\u001b[1;32m    363\u001b[0m                 )\n\u001b[1;32m    364\u001b[0m \u001b[0;34m\u001b[0m\u001b[0m\n",
        "\u001b[0;32m/Users/choldgraf/anaconda/lib/python2.7/site-packages/requests/packages/urllib3/connectionpool.pyc\u001b[0m in \u001b[0;36murlopen\u001b[0;34m(self, method, url, body, headers, retries, redirect, assert_same_host, timeout, pool_timeout, release_conn, **response_kw)\u001b[0m\n\u001b[1;32m    514\u001b[0m             httplib_response = self._make_request(conn, method, url,\n\u001b[1;32m    515\u001b[0m                                                   \u001b[0mtimeout\u001b[0m\u001b[0;34m=\u001b[0m\u001b[0mtimeout\u001b[0m\u001b[0;34m,\u001b[0m\u001b[0;34m\u001b[0m\u001b[0m\n\u001b[0;32m--> 516\u001b[0;31m                                                   body=body, headers=headers)\n\u001b[0m\u001b[1;32m    517\u001b[0m \u001b[0;34m\u001b[0m\u001b[0m\n\u001b[1;32m    518\u001b[0m             \u001b[0;31m# If we're going to release the connection in ``finally:``, then\u001b[0m\u001b[0;34m\u001b[0m\u001b[0;34m\u001b[0m\u001b[0m\n",
        "\u001b[0;32m/Users/choldgraf/anaconda/lib/python2.7/site-packages/requests/packages/urllib3/connectionpool.pyc\u001b[0m in \u001b[0;36m_make_request\u001b[0;34m(self, conn, method, url, timeout, **httplib_request_kw)\u001b[0m\n\u001b[1;32m    306\u001b[0m         \u001b[0;31m# conn.request() calls httplib.*.request, not the method in\u001b[0m\u001b[0;34m\u001b[0m\u001b[0;34m\u001b[0m\u001b[0m\n\u001b[1;32m    307\u001b[0m         \u001b[0;31m# urllib3.request. It also calls makefile (recv) on the socket.\u001b[0m\u001b[0;34m\u001b[0m\u001b[0;34m\u001b[0m\u001b[0m\n\u001b[0;32m--> 308\u001b[0;31m         \u001b[0mconn\u001b[0m\u001b[0;34m.\u001b[0m\u001b[0mrequest\u001b[0m\u001b[0;34m(\u001b[0m\u001b[0mmethod\u001b[0m\u001b[0;34m,\u001b[0m \u001b[0murl\u001b[0m\u001b[0;34m,\u001b[0m \u001b[0;34m**\u001b[0m\u001b[0mhttplib_request_kw\u001b[0m\u001b[0;34m)\u001b[0m\u001b[0;34m\u001b[0m\u001b[0m\n\u001b[0m\u001b[1;32m    309\u001b[0m \u001b[0;34m\u001b[0m\u001b[0m\n\u001b[1;32m    310\u001b[0m         \u001b[0;31m# Reset the timeout for the recv() on the socket\u001b[0m\u001b[0;34m\u001b[0m\u001b[0;34m\u001b[0m\u001b[0m\n",
        "\u001b[0;32m/Users/choldgraf/anaconda/lib/python2.7/httplib.pyc\u001b[0m in \u001b[0;36mrequest\u001b[0;34m(self, method, url, body, headers)\u001b[0m\n\u001b[1;32m    993\u001b[0m     \u001b[0;32mdef\u001b[0m \u001b[0mrequest\u001b[0m\u001b[0;34m(\u001b[0m\u001b[0mself\u001b[0m\u001b[0;34m,\u001b[0m \u001b[0mmethod\u001b[0m\u001b[0;34m,\u001b[0m \u001b[0murl\u001b[0m\u001b[0;34m,\u001b[0m \u001b[0mbody\u001b[0m\u001b[0;34m=\u001b[0m\u001b[0mNone\u001b[0m\u001b[0;34m,\u001b[0m \u001b[0mheaders\u001b[0m\u001b[0;34m=\u001b[0m\u001b[0;34m{\u001b[0m\u001b[0;34m}\u001b[0m\u001b[0;34m)\u001b[0m\u001b[0;34m:\u001b[0m\u001b[0;34m\u001b[0m\u001b[0m\n\u001b[1;32m    994\u001b[0m         \u001b[0;34m\"\"\"Send a complete request to the server.\"\"\"\u001b[0m\u001b[0;34m\u001b[0m\u001b[0m\n\u001b[0;32m--> 995\u001b[0;31m         \u001b[0mself\u001b[0m\u001b[0;34m.\u001b[0m\u001b[0m_send_request\u001b[0m\u001b[0;34m(\u001b[0m\u001b[0mmethod\u001b[0m\u001b[0;34m,\u001b[0m \u001b[0murl\u001b[0m\u001b[0;34m,\u001b[0m \u001b[0mbody\u001b[0m\u001b[0;34m,\u001b[0m \u001b[0mheaders\u001b[0m\u001b[0;34m)\u001b[0m\u001b[0;34m\u001b[0m\u001b[0m\n\u001b[0m\u001b[1;32m    996\u001b[0m \u001b[0;34m\u001b[0m\u001b[0m\n\u001b[1;32m    997\u001b[0m     \u001b[0;32mdef\u001b[0m \u001b[0m_set_content_length\u001b[0m\u001b[0;34m(\u001b[0m\u001b[0mself\u001b[0m\u001b[0;34m,\u001b[0m \u001b[0mbody\u001b[0m\u001b[0;34m)\u001b[0m\u001b[0;34m:\u001b[0m\u001b[0;34m\u001b[0m\u001b[0m\n",
        "\u001b[0;32m/Users/choldgraf/anaconda/lib/python2.7/httplib.pyc\u001b[0m in \u001b[0;36m_send_request\u001b[0;34m(self, method, url, body, headers)\u001b[0m\n\u001b[1;32m   1027\u001b[0m         \u001b[0;32mfor\u001b[0m \u001b[0mhdr\u001b[0m\u001b[0;34m,\u001b[0m \u001b[0mvalue\u001b[0m \u001b[0;32min\u001b[0m \u001b[0mheaders\u001b[0m\u001b[0;34m.\u001b[0m\u001b[0miteritems\u001b[0m\u001b[0;34m(\u001b[0m\u001b[0;34m)\u001b[0m\u001b[0;34m:\u001b[0m\u001b[0;34m\u001b[0m\u001b[0m\n\u001b[1;32m   1028\u001b[0m             \u001b[0mself\u001b[0m\u001b[0;34m.\u001b[0m\u001b[0mputheader\u001b[0m\u001b[0;34m(\u001b[0m\u001b[0mhdr\u001b[0m\u001b[0;34m,\u001b[0m \u001b[0mvalue\u001b[0m\u001b[0;34m)\u001b[0m\u001b[0;34m\u001b[0m\u001b[0m\n\u001b[0;32m-> 1029\u001b[0;31m         \u001b[0mself\u001b[0m\u001b[0;34m.\u001b[0m\u001b[0mendheaders\u001b[0m\u001b[0;34m(\u001b[0m\u001b[0mbody\u001b[0m\u001b[0;34m)\u001b[0m\u001b[0;34m\u001b[0m\u001b[0m\n\u001b[0m\u001b[1;32m   1030\u001b[0m \u001b[0;34m\u001b[0m\u001b[0m\n\u001b[1;32m   1031\u001b[0m     \u001b[0;32mdef\u001b[0m \u001b[0mgetresponse\u001b[0m\u001b[0;34m(\u001b[0m\u001b[0mself\u001b[0m\u001b[0;34m,\u001b[0m \u001b[0mbuffering\u001b[0m\u001b[0;34m=\u001b[0m\u001b[0mFalse\u001b[0m\u001b[0;34m)\u001b[0m\u001b[0;34m:\u001b[0m\u001b[0;34m\u001b[0m\u001b[0m\n",
        "\u001b[0;32m/Users/choldgraf/anaconda/lib/python2.7/httplib.pyc\u001b[0m in \u001b[0;36mendheaders\u001b[0;34m(self, message_body)\u001b[0m\n\u001b[1;32m    989\u001b[0m         \u001b[0;32melse\u001b[0m\u001b[0;34m:\u001b[0m\u001b[0;34m\u001b[0m\u001b[0m\n\u001b[1;32m    990\u001b[0m             \u001b[0;32mraise\u001b[0m \u001b[0mCannotSendHeader\u001b[0m\u001b[0;34m(\u001b[0m\u001b[0;34m)\u001b[0m\u001b[0;34m\u001b[0m\u001b[0m\n\u001b[0;32m--> 991\u001b[0;31m         \u001b[0mself\u001b[0m\u001b[0;34m.\u001b[0m\u001b[0m_send_output\u001b[0m\u001b[0;34m(\u001b[0m\u001b[0mmessage_body\u001b[0m\u001b[0;34m)\u001b[0m\u001b[0;34m\u001b[0m\u001b[0m\n\u001b[0m\u001b[1;32m    992\u001b[0m \u001b[0;34m\u001b[0m\u001b[0m\n\u001b[1;32m    993\u001b[0m     \u001b[0;32mdef\u001b[0m \u001b[0mrequest\u001b[0m\u001b[0;34m(\u001b[0m\u001b[0mself\u001b[0m\u001b[0;34m,\u001b[0m \u001b[0mmethod\u001b[0m\u001b[0;34m,\u001b[0m \u001b[0murl\u001b[0m\u001b[0;34m,\u001b[0m \u001b[0mbody\u001b[0m\u001b[0;34m=\u001b[0m\u001b[0mNone\u001b[0m\u001b[0;34m,\u001b[0m \u001b[0mheaders\u001b[0m\u001b[0;34m=\u001b[0m\u001b[0;34m{\u001b[0m\u001b[0;34m}\u001b[0m\u001b[0;34m)\u001b[0m\u001b[0;34m:\u001b[0m\u001b[0;34m\u001b[0m\u001b[0m\n",
        "\u001b[0;32m/Users/choldgraf/anaconda/lib/python2.7/httplib.pyc\u001b[0m in \u001b[0;36m_send_output\u001b[0;34m(self, message_body)\u001b[0m\n\u001b[1;32m    842\u001b[0m             \u001b[0mmsg\u001b[0m \u001b[0;34m+=\u001b[0m \u001b[0mmessage_body\u001b[0m\u001b[0;34m\u001b[0m\u001b[0m\n\u001b[1;32m    843\u001b[0m             \u001b[0mmessage_body\u001b[0m \u001b[0;34m=\u001b[0m \u001b[0mNone\u001b[0m\u001b[0;34m\u001b[0m\u001b[0m\n\u001b[0;32m--> 844\u001b[0;31m         \u001b[0mself\u001b[0m\u001b[0;34m.\u001b[0m\u001b[0msend\u001b[0m\u001b[0;34m(\u001b[0m\u001b[0mmsg\u001b[0m\u001b[0;34m)\u001b[0m\u001b[0;34m\u001b[0m\u001b[0m\n\u001b[0m\u001b[1;32m    845\u001b[0m         \u001b[0;32mif\u001b[0m \u001b[0mmessage_body\u001b[0m \u001b[0;32mis\u001b[0m \u001b[0;32mnot\u001b[0m \u001b[0mNone\u001b[0m\u001b[0;34m:\u001b[0m\u001b[0;34m\u001b[0m\u001b[0m\n\u001b[1;32m    846\u001b[0m             \u001b[0;31m#message_body was not a string (i.e. it is a file) and\u001b[0m\u001b[0;34m\u001b[0m\u001b[0;34m\u001b[0m\u001b[0m\n",
        "\u001b[0;32m/Users/choldgraf/anaconda/lib/python2.7/httplib.pyc\u001b[0m in \u001b[0;36msend\u001b[0;34m(self, data)\u001b[0m\n\u001b[1;32m    804\u001b[0m         \u001b[0;32mif\u001b[0m \u001b[0mself\u001b[0m\u001b[0;34m.\u001b[0m\u001b[0msock\u001b[0m \u001b[0;32mis\u001b[0m \u001b[0mNone\u001b[0m\u001b[0;34m:\u001b[0m\u001b[0;34m\u001b[0m\u001b[0m\n\u001b[1;32m    805\u001b[0m             \u001b[0;32mif\u001b[0m \u001b[0mself\u001b[0m\u001b[0;34m.\u001b[0m\u001b[0mauto_open\u001b[0m\u001b[0;34m:\u001b[0m\u001b[0;34m\u001b[0m\u001b[0m\n\u001b[0;32m--> 806\u001b[0;31m                 \u001b[0mself\u001b[0m\u001b[0;34m.\u001b[0m\u001b[0mconnect\u001b[0m\u001b[0;34m(\u001b[0m\u001b[0;34m)\u001b[0m\u001b[0;34m\u001b[0m\u001b[0m\n\u001b[0m\u001b[1;32m    807\u001b[0m             \u001b[0;32melse\u001b[0m\u001b[0;34m:\u001b[0m\u001b[0;34m\u001b[0m\u001b[0m\n\u001b[1;32m    808\u001b[0m                 \u001b[0;32mraise\u001b[0m \u001b[0mNotConnected\u001b[0m\u001b[0;34m(\u001b[0m\u001b[0;34m)\u001b[0m\u001b[0;34m\u001b[0m\u001b[0m\n",
        "\u001b[0;32m/Users/choldgraf/anaconda/lib/python2.7/site-packages/requests/packages/urllib3/connection.pyc\u001b[0m in \u001b[0;36mconnect\u001b[0;34m(self)\u001b[0m\n\u001b[1;32m    144\u001b[0m \u001b[0;34m\u001b[0m\u001b[0m\n\u001b[1;32m    145\u001b[0m     \u001b[0;32mdef\u001b[0m \u001b[0mconnect\u001b[0m\u001b[0;34m(\u001b[0m\u001b[0mself\u001b[0m\u001b[0;34m)\u001b[0m\u001b[0;34m:\u001b[0m\u001b[0;34m\u001b[0m\u001b[0m\n\u001b[0;32m--> 146\u001b[0;31m         \u001b[0mconn\u001b[0m \u001b[0;34m=\u001b[0m \u001b[0mself\u001b[0m\u001b[0;34m.\u001b[0m\u001b[0m_new_conn\u001b[0m\u001b[0;34m(\u001b[0m\u001b[0;34m)\u001b[0m\u001b[0;34m\u001b[0m\u001b[0m\n\u001b[0m\u001b[1;32m    147\u001b[0m         \u001b[0mself\u001b[0m\u001b[0;34m.\u001b[0m\u001b[0m_prepare_conn\u001b[0m\u001b[0;34m(\u001b[0m\u001b[0mconn\u001b[0m\u001b[0;34m)\u001b[0m\u001b[0;34m\u001b[0m\u001b[0m\n\u001b[1;32m    148\u001b[0m \u001b[0;34m\u001b[0m\u001b[0m\n",
        "\u001b[0;32m/Users/choldgraf/anaconda/lib/python2.7/site-packages/requests/packages/urllib3/connection.pyc\u001b[0m in \u001b[0;36m_new_conn\u001b[0;34m(self)\u001b[0m\n\u001b[1;32m    123\u001b[0m         \u001b[0;32mtry\u001b[0m\u001b[0;34m:\u001b[0m\u001b[0;34m\u001b[0m\u001b[0m\n\u001b[1;32m    124\u001b[0m             conn = connection.create_connection(\n\u001b[0;32m--> 125\u001b[0;31m                 (self.host, self.port), self.timeout, **extra_kw)\n\u001b[0m\u001b[1;32m    126\u001b[0m \u001b[0;34m\u001b[0m\u001b[0m\n\u001b[1;32m    127\u001b[0m         \u001b[0;32mexcept\u001b[0m \u001b[0mSocketTimeout\u001b[0m\u001b[0;34m:\u001b[0m\u001b[0;34m\u001b[0m\u001b[0m\n",
        "\u001b[0;32m/Users/choldgraf/anaconda/lib/python2.7/site-packages/requests/packages/urllib3/util/connection.pyc\u001b[0m in \u001b[0;36mcreate_connection\u001b[0;34m(address, timeout, source_address, socket_options)\u001b[0m\n\u001b[1;32m     66\u001b[0m         \u001b[0msock\u001b[0m \u001b[0;34m=\u001b[0m \u001b[0mNone\u001b[0m\u001b[0;34m\u001b[0m\u001b[0m\n\u001b[1;32m     67\u001b[0m         \u001b[0;32mtry\u001b[0m\u001b[0;34m:\u001b[0m\u001b[0;34m\u001b[0m\u001b[0m\n\u001b[0;32m---> 68\u001b[0;31m             \u001b[0msock\u001b[0m \u001b[0;34m=\u001b[0m \u001b[0msocket\u001b[0m\u001b[0;34m.\u001b[0m\u001b[0msocket\u001b[0m\u001b[0;34m(\u001b[0m\u001b[0maf\u001b[0m\u001b[0;34m,\u001b[0m \u001b[0msocktype\u001b[0m\u001b[0;34m,\u001b[0m \u001b[0mproto\u001b[0m\u001b[0;34m)\u001b[0m\u001b[0;34m\u001b[0m\u001b[0m\n\u001b[0m\u001b[1;32m     69\u001b[0m \u001b[0;34m\u001b[0m\u001b[0m\n\u001b[1;32m     70\u001b[0m             \u001b[0;31m# If provided, set socket level options before connecting.\u001b[0m\u001b[0;34m\u001b[0m\u001b[0;34m\u001b[0m\u001b[0m\n",
        "\u001b[0;32m/Users/choldgraf/anaconda/lib/python2.7/socket.pyc\u001b[0m in \u001b[0;36m__init__\u001b[0;34m(self, family, type, proto, _sock)\u001b[0m\n\u001b[1;32m    188\u001b[0m         \u001b[0mself\u001b[0m\u001b[0;34m.\u001b[0m\u001b[0m_sock\u001b[0m \u001b[0;34m=\u001b[0m \u001b[0m_sock\u001b[0m\u001b[0;34m\u001b[0m\u001b[0m\n\u001b[1;32m    189\u001b[0m         \u001b[0;32mfor\u001b[0m \u001b[0mmethod\u001b[0m \u001b[0;32min\u001b[0m \u001b[0m_delegate_methods\u001b[0m\u001b[0;34m:\u001b[0m\u001b[0;34m\u001b[0m\u001b[0m\n\u001b[0;32m--> 190\u001b[0;31m             \u001b[0msetattr\u001b[0m\u001b[0;34m(\u001b[0m\u001b[0mself\u001b[0m\u001b[0;34m,\u001b[0m \u001b[0mmethod\u001b[0m\u001b[0;34m,\u001b[0m \u001b[0mgetattr\u001b[0m\u001b[0;34m(\u001b[0m\u001b[0m_sock\u001b[0m\u001b[0;34m,\u001b[0m \u001b[0mmethod\u001b[0m\u001b[0;34m)\u001b[0m\u001b[0;34m)\u001b[0m\u001b[0;34m\u001b[0m\u001b[0m\n\u001b[0m\u001b[1;32m    191\u001b[0m \u001b[0;34m\u001b[0m\u001b[0m\n\u001b[1;32m    192\u001b[0m     def close(self, _closedsocket=_closedsocket,\n",
        "\u001b[0;31mKeyboardInterrupt\u001b[0m: "
       ]
      }
     ],
     "prompt_number": 16
    },
    {
     "cell_type": "code",
     "collapsed": false,
     "input": [
      "response_dict = json.loads(r.content)"
     ],
     "language": "python",
     "metadata": {},
     "outputs": [
      {
       "ename": "ValueError",
       "evalue": "No JSON object could be decoded",
       "output_type": "pyerr",
       "traceback": [
        "\u001b[0;31m---------------------------------------------------------------------------\u001b[0m\n\u001b[0;31mValueError\u001b[0m                                Traceback (most recent call last)",
        "\u001b[0;32m<ipython-input-9-580aa19671bf>\u001b[0m in \u001b[0;36m<module>\u001b[0;34m()\u001b[0m\n\u001b[0;32m----> 1\u001b[0;31m \u001b[0mresponse_dict\u001b[0m \u001b[0;34m=\u001b[0m \u001b[0mjson\u001b[0m\u001b[0;34m.\u001b[0m\u001b[0mloads\u001b[0m\u001b[0;34m(\u001b[0m\u001b[0mr\u001b[0m\u001b[0;34m.\u001b[0m\u001b[0mcontent\u001b[0m\u001b[0;34m)\u001b[0m\u001b[0;34m\u001b[0m\u001b[0m\n\u001b[0m",
        "\u001b[0;32m/Users/choldgraf/anaconda/lib/python2.7/json/__init__.pyc\u001b[0m in \u001b[0;36mloads\u001b[0;34m(s, encoding, cls, object_hook, parse_float, parse_int, parse_constant, object_pairs_hook, **kw)\u001b[0m\n\u001b[1;32m    336\u001b[0m             \u001b[0mparse_int\u001b[0m \u001b[0;32mis\u001b[0m \u001b[0mNone\u001b[0m \u001b[0;32mand\u001b[0m \u001b[0mparse_float\u001b[0m \u001b[0;32mis\u001b[0m \u001b[0mNone\u001b[0m \u001b[0;32mand\u001b[0m\u001b[0;34m\u001b[0m\u001b[0m\n\u001b[1;32m    337\u001b[0m             parse_constant is None and object_pairs_hook is None and not kw):\n\u001b[0;32m--> 338\u001b[0;31m         \u001b[0;32mreturn\u001b[0m \u001b[0m_default_decoder\u001b[0m\u001b[0;34m.\u001b[0m\u001b[0mdecode\u001b[0m\u001b[0;34m(\u001b[0m\u001b[0ms\u001b[0m\u001b[0;34m)\u001b[0m\u001b[0;34m\u001b[0m\u001b[0m\n\u001b[0m\u001b[1;32m    339\u001b[0m     \u001b[0;32mif\u001b[0m \u001b[0mcls\u001b[0m \u001b[0;32mis\u001b[0m \u001b[0mNone\u001b[0m\u001b[0;34m:\u001b[0m\u001b[0;34m\u001b[0m\u001b[0m\n\u001b[1;32m    340\u001b[0m         \u001b[0mcls\u001b[0m \u001b[0;34m=\u001b[0m \u001b[0mJSONDecoder\u001b[0m\u001b[0;34m\u001b[0m\u001b[0m\n",
        "\u001b[0;32m/Users/choldgraf/anaconda/lib/python2.7/json/decoder.pyc\u001b[0m in \u001b[0;36mdecode\u001b[0;34m(self, s, _w)\u001b[0m\n\u001b[1;32m    364\u001b[0m \u001b[0;34m\u001b[0m\u001b[0m\n\u001b[1;32m    365\u001b[0m         \"\"\"\n\u001b[0;32m--> 366\u001b[0;31m         \u001b[0mobj\u001b[0m\u001b[0;34m,\u001b[0m \u001b[0mend\u001b[0m \u001b[0;34m=\u001b[0m \u001b[0mself\u001b[0m\u001b[0;34m.\u001b[0m\u001b[0mraw_decode\u001b[0m\u001b[0;34m(\u001b[0m\u001b[0ms\u001b[0m\u001b[0;34m,\u001b[0m \u001b[0midx\u001b[0m\u001b[0;34m=\u001b[0m\u001b[0m_w\u001b[0m\u001b[0;34m(\u001b[0m\u001b[0ms\u001b[0m\u001b[0;34m,\u001b[0m \u001b[0;36m0\u001b[0m\u001b[0;34m)\u001b[0m\u001b[0;34m.\u001b[0m\u001b[0mend\u001b[0m\u001b[0;34m(\u001b[0m\u001b[0;34m)\u001b[0m\u001b[0;34m)\u001b[0m\u001b[0;34m\u001b[0m\u001b[0m\n\u001b[0m\u001b[1;32m    367\u001b[0m         \u001b[0mend\u001b[0m \u001b[0;34m=\u001b[0m \u001b[0m_w\u001b[0m\u001b[0;34m(\u001b[0m\u001b[0ms\u001b[0m\u001b[0;34m,\u001b[0m \u001b[0mend\u001b[0m\u001b[0;34m)\u001b[0m\u001b[0;34m.\u001b[0m\u001b[0mend\u001b[0m\u001b[0;34m(\u001b[0m\u001b[0;34m)\u001b[0m\u001b[0;34m\u001b[0m\u001b[0m\n\u001b[1;32m    368\u001b[0m         \u001b[0;32mif\u001b[0m \u001b[0mend\u001b[0m \u001b[0;34m!=\u001b[0m \u001b[0mlen\u001b[0m\u001b[0;34m(\u001b[0m\u001b[0ms\u001b[0m\u001b[0;34m)\u001b[0m\u001b[0;34m:\u001b[0m\u001b[0;34m\u001b[0m\u001b[0m\n",
        "\u001b[0;32m/Users/choldgraf/anaconda/lib/python2.7/json/decoder.pyc\u001b[0m in \u001b[0;36mraw_decode\u001b[0;34m(self, s, idx)\u001b[0m\n\u001b[1;32m    382\u001b[0m             \u001b[0mobj\u001b[0m\u001b[0;34m,\u001b[0m \u001b[0mend\u001b[0m \u001b[0;34m=\u001b[0m \u001b[0mself\u001b[0m\u001b[0;34m.\u001b[0m\u001b[0mscan_once\u001b[0m\u001b[0;34m(\u001b[0m\u001b[0ms\u001b[0m\u001b[0;34m,\u001b[0m \u001b[0midx\u001b[0m\u001b[0;34m)\u001b[0m\u001b[0;34m\u001b[0m\u001b[0m\n\u001b[1;32m    383\u001b[0m         \u001b[0;32mexcept\u001b[0m \u001b[0mStopIteration\u001b[0m\u001b[0;34m:\u001b[0m\u001b[0;34m\u001b[0m\u001b[0m\n\u001b[0;32m--> 384\u001b[0;31m             \u001b[0;32mraise\u001b[0m \u001b[0mValueError\u001b[0m\u001b[0;34m(\u001b[0m\u001b[0;34m\"No JSON object could be decoded\"\u001b[0m\u001b[0;34m)\u001b[0m\u001b[0;34m\u001b[0m\u001b[0m\n\u001b[0m\u001b[1;32m    385\u001b[0m         \u001b[0;32mreturn\u001b[0m \u001b[0mobj\u001b[0m\u001b[0;34m,\u001b[0m \u001b[0mend\u001b[0m\u001b[0;34m\u001b[0m\u001b[0m\n",
        "\u001b[0;31mValueError\u001b[0m: No JSON object could be decoded"
       ]
      }
     ],
     "prompt_number": 9
    },
    {
     "cell_type": "code",
     "collapsed": false,
     "input": [
      "response_dict['ffff']"
     ],
     "language": "python",
     "metadata": {},
     "outputs": [
      {
       "metadata": {},
       "output_type": "pyout",
       "prompt_number": 37,
       "text": [
        "8269.9835720021"
       ]
      }
     ],
     "prompt_number": 37
    }
   ],
   "metadata": {}
  }
 ]
}