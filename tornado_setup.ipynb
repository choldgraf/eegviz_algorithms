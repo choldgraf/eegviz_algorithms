{
 "metadata": {
  "name": "",
  "signature": "sha256:39e3cfb62e93b158c651e7cab9fe65b30eed69e194ce17f2e10b0cc543d968dc"
 },
 "nbformat": 3,
 "nbformat_minor": 0,
 "worksheets": [
  {
   "cells": [
    {
     "cell_type": "code",
     "collapsed": false,
     "input": [
      "from tornado import ioloop, web, httpserver\n",
      "import tornado\n",
      "import requests\n",
      "import json\n",
      "import pandas as pd"
     ],
     "language": "python",
     "metadata": {},
     "outputs": [],
     "prompt_number": 9
    },
    {
     "cell_type": "code",
     "collapsed": true,
     "input": [
      "ix_data = np.random.randint(1000, 2000, 10)\n",
      "df_json = pd.read_csv('./data/sensors_dump.csv').iloc[ix_data, :]"
     ],
     "language": "python",
     "metadata": {},
     "outputs": [],
     "prompt_number": 27
    },
    {
     "cell_type": "code",
     "collapsed": false,
     "input": [
      "post_dict = {'data': df_json.to_json()}"
     ],
     "language": "python",
     "metadata": {},
     "outputs": [],
     "prompt_number": 28
    },
    {
     "cell_type": "code",
     "collapsed": false,
     "input": [
      "r = requests.post('http://localhost:8989', post_dict)"
     ],
     "language": "python",
     "metadata": {},
     "outputs": [],
     "prompt_number": 29
    }
   ],
   "metadata": {}
  }
 ]
}