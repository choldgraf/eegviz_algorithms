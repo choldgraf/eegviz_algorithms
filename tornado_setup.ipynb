{
 "metadata": {
  "name": "",
  "signature": "sha256:9cf5ef5ef41935deea6567f12ce8f12ae950fcafac751eea88bb15a62441bce8"
 },
 "nbformat": 3,
 "nbformat_minor": 0,
 "worksheets": [
  {
   "cells": [
    {
     "cell_type": "code",
     "collapsed": false,
     "input": [
      "from tornado import ioloop, web, httpserver\n",
      "import tornado\n",
      "import requests\n",
      "import json\n",
      "import pandas as pd"
     ],
     "language": "python",
     "metadata": {},
     "outputs": [],
     "prompt_number": 32
    },
    {
     "cell_type": "code",
     "collapsed": true,
     "input": [
      "ix_data = np.random.randint(1000, 5000, 10)\n",
      "df = pd.read_csv('./data/sensors_dump.csv').replace('\\N', np.nan).dropna()\n",
      "df_json = df.iloc[ix_data, :]"
     ],
     "language": "python",
     "metadata": {},
     "outputs": [],
     "prompt_number": 57
    },
    {
     "cell_type": "code",
     "collapsed": false,
     "input": [
      "post_dict = {'data': df_json.to_json()}"
     ],
     "language": "python",
     "metadata": {},
     "outputs": [],
     "prompt_number": 60
    },
    {
     "cell_type": "code",
     "collapsed": false,
     "input": [
      "r = requests.post('http://localhost:8989', post_dict)"
     ],
     "language": "python",
     "metadata": {},
     "outputs": [],
     "prompt_number": 66
    }
   ],
   "metadata": {}
  }
 ]
}